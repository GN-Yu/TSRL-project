{
  "nbformat": 4,
  "nbformat_minor": 0,
  "metadata": {
    "colab": {
      "provenance": [],
      "gpuType": "T4",
      "authorship_tag": "ABX9TyO/SKMRyZWXGy+gXG7JSx9k",
      "include_colab_link": true
    },
    "kernelspec": {
      "name": "python3",
      "display_name": "Python 3"
    },
    "language_info": {
      "name": "python"
    },
    "accelerator": "GPU"
  },
  "cells": [
    {
      "cell_type": "markdown",
      "metadata": {
        "id": "view-in-github",
        "colab_type": "text"
      },
      "source": [
        "<a href=\"https://colab.research.google.com/github/GN-Yu/TSRL-project/blob/main/one_dimension.ipynb\" target=\"_parent\"><img src=\"https://colab.research.google.com/assets/colab-badge.svg\" alt=\"Open In Colab\"/></a>"
      ]
    },
    {
      "cell_type": "code",
      "source": [
        "import os\n",
        "import psutil\n",
        "import tensorflow as tf\n",
        "import subprocess\n",
        "\n",
        "# Function to execute shell command and return output\n",
        "def run_shell_command(cmd):\n",
        "    return subprocess.run(cmd, stdout=subprocess.PIPE, shell=True).stdout.decode('utf-8').strip()\n",
        "\n",
        "# Check CPU\n",
        "cpu_info = run_shell_command(\"cat /proc/cpuinfo | grep 'model name' | uniq\")\n",
        "print(\"CPU:\", cpu_info.split(\":\")[1].strip() if cpu_info else \"Not available\")\n",
        "\n",
        "# Number of CPU Cores\n",
        "num_cores = os.cpu_count()\n",
        "print(\"Number of CPU cores:\", num_cores)\n",
        "\n",
        "# Total RAM\n",
        "ram_info = psutil.virtual_memory()\n",
        "total_ram = ram_info.total / (1024 ** 3)  # Convert bytes to GB\n",
        "print(f\"Total RAM : {total_ram} GB\")\n",
        "\n",
        "# Check GPU\n",
        "gpu_info = !nvidia-smi --query-gpu=gpu_name,memory.total --format=csv\n",
        "if gpu_info and len(gpu_info) > 1:\n",
        "    gpu_name = gpu_info[1].split(',')[0]\n",
        "    gpu_memory_mib = float(gpu_info[1].split()[2])  # Extract the memory in MiB\n",
        "    gpu_memory_gb = gpu_memory_mib / 1024\n",
        "    print(f\"GPU: {gpu_name}, {gpu_memory_gb} GB\")\n",
        "else:\n",
        "    print(\"GPU: Not available\")\n",
        "\n",
        "# TensorFlow info\n",
        "print(f\"TensorFlow version: {tf.__version__}\")\n",
        "print(\"TensorFlow GPU Availability:\", tf.test.is_gpu_available())"
      ],
      "metadata": {
        "colab": {
          "base_uri": "https://localhost:8080/"
        },
        "id": "lgd5Aprvn-O3",
        "outputId": "1075e95a-094a-4ba0-a572-170809029730"
      },
      "execution_count": 1,
      "outputs": [
        {
          "output_type": "stream",
          "name": "stdout",
          "text": [
            "CPU: Intel(R) Xeon(R) CPU @ 2.00GHz\n",
            "Number of CPU cores: 2\n",
            "Total RAM : 12.674789428710938 GB\n"
          ]
        },
        {
          "output_type": "stream",
          "name": "stderr",
          "text": [
            "WARNING:tensorflow:From <ipython-input-1-f4feeca38a4f>:35: is_gpu_available (from tensorflow.python.framework.test_util) is deprecated and will be removed in a future version.\n",
            "Instructions for updating:\n",
            "Use `tf.config.list_physical_devices('GPU')` instead.\n"
          ]
        },
        {
          "output_type": "stream",
          "name": "stdout",
          "text": [
            "GPU: Tesla T4, 15.0 GB\n",
            "TensorFlow version: 2.15.0\n",
            "TensorFlow GPU Availability: True\n"
          ]
        }
      ]
    },
    {
      "cell_type": "code",
      "execution_count": 2,
      "metadata": {
        "id": "xVz5AilONonQ"
      },
      "outputs": [],
      "source": [
        "# organize files\n",
        "import os\n",
        "for dirname, _, filenames in os.walk('/content/drive/MyDrive/TSRL_project'):\n",
        "    for filename in filenames:\n",
        "        print(os.path.join(dirname, filename))"
      ]
    },
    {
      "cell_type": "code",
      "source": [
        "import numpy as np\n",
        "\n",
        "# Set random seed\n",
        "SEED = 2023\n",
        "tf.random.set_seed(SEED)\n",
        "np.random.seed(SEED)"
      ],
      "metadata": {
        "id": "BeEgglCXOEEa"
      },
      "execution_count": 3,
      "outputs": []
    },
    {
      "cell_type": "code",
      "source": [
        "def sample_brownian_motion(num_trajectories, time_steps):\n",
        "    \"\"\"\n",
        "    Function to sample Brownian motion for the specified number of trajectories and time steps.\n",
        "\n",
        "    :param num_trajectories: The number of trajectories to simulate.\n",
        "    :param time_steps: A numpy array of time steps.\n",
        "    :return: A numpy array of shape (num_trajectories, len(time_steps)-1) representing the Brownian increments.\n",
        "    \"\"\"\n",
        "    # Calculate time intervals (delta_t) as differences between consecutive time steps\n",
        "    delta_t = np.diff(time_steps)\n",
        "\n",
        "    # Sample Brownian increments ∆W for each time interval and each trajectory\n",
        "    brownian_increments = np.random.normal(0, np.sqrt(delta_t), (num_trajectories, len(delta_t)))\n",
        "\n",
        "    return brownian_increments\n",
        "\n",
        "def sample_initial_states(num_samples):\n",
        "    # Implement initial state sampling here\n",
        "    pass\n",
        "\n"
      ],
      "metadata": {
        "id": "hVDp3bo8QXp9"
      },
      "execution_count": 4,
      "outputs": []
    },
    {
      "cell_type": "code",
      "source": [
        "def sample_levy_jumps(num_trajectories, lambda_param, mu, sigma, time_horizon):\n",
        "    \"\"\"\n",
        "    Function to sample jumps from a Lévy process for the specified number of trajectories.\n",
        "\n",
        "    :param num_trajectories: The number of trajectories to simulate.\n",
        "    :param lambda_param: The intensity parameter λ of the Poisson process.\n",
        "    :param phi_function: The density function ϕ(z) of the jump sizes.\n",
        "    :param time_horizon: The total time horizon T.\n",
        "    :return: A list containing tuples (jump_times, jump_sizes) for each trajectory.\n",
        "    \"\"\"\n",
        "    jumps = []\n",
        "\n",
        "    for _ in range(num_trajectories):\n",
        "        # Step (a): Generate a sequence of exponential distributions with parameter λ\n",
        "        exponential_samples = np.random.exponential(1/lambda_param, 1000)  # Generate a large number of samples\n",
        "\n",
        "        # Step (b): Compute the cumulative sum to get the arrival times of the Poisson process\n",
        "        arrival_times = np.cumsum(exponential_samples)\n",
        "        arrival_times = arrival_times[arrival_times <= time_horizon]  # Filter times beyond the time horizon\n",
        "\n",
        "        # Step (c): Sample from ϕ(z) for each arrival time to get the jump sizes\n",
        "        jump_sizes = np.array([np.random.normal(mu, sigma) for _ in arrival_times])\n",
        "\n",
        "        jumps.append((arrival_times, jump_sizes))\n",
        "\n",
        "    return jumps\n",
        "\n",
        "# Example usage\n",
        "lambda_param = 0.3  # Intensity parameter λ of the Poisson process\n",
        "time_horizon = 1    # Total time horizon T\n",
        "M = 1000  # Number of samples/trajectories\n",
        "mu = 0.4\n",
        "sigma = 0.25\n",
        "\n",
        "np.random.seed(SEED)\n",
        "\n",
        "# Simulate jumps for a specific number of trajectories\n",
        "levy_jumps = sample_levy_jumps(M, lambda_param, mu, sigma, time_horizon)\n",
        "\n",
        "# Example output of the first trajectory's jumps\n",
        "for i in range(10):\n",
        "  print(levy_jumps[i])  # (array of arrival times, array of jump sizes)\n",
        "\n",
        "print(len(levy_jumps))"
      ],
      "metadata": {
        "id": "6JtPhxdcyUI3",
        "outputId": "a2d7c9bd-7ff5-4397-d857-9ace791efca8",
        "colab": {
          "base_uri": "https://localhost:8080/"
        }
      },
      "execution_count": 23,
      "outputs": [
        {
          "output_type": "stream",
          "name": "stdout",
          "text": [
            "(array([], dtype=float64), array([], dtype=float64))\n",
            "(array([], dtype=float64), array([], dtype=float64))\n",
            "(array([0.83590594]), array([0.77940469]))\n",
            "(array([0.082762]), array([0.37031741]))\n",
            "(array([], dtype=float64), array([], dtype=float64))\n",
            "(array([0.62719477]), array([0.11490175]))\n",
            "(array([], dtype=float64), array([], dtype=float64))\n",
            "(array([], dtype=float64), array([], dtype=float64))\n",
            "(array([0.80695252]), array([0.28491658]))\n",
            "(array([0.44614681, 0.99265044]), array([0.43799769, 0.39632166]))\n",
            "1000\n"
          ]
        }
      ]
    },
    {
      "cell_type": "code",
      "source": [
        "from scipy.stats import norm\n",
        "\n",
        "z = 0.5 # location to evaluate\n",
        "\n",
        "# Using scipy.stats\n",
        "phi = norm.pdf(z, loc=mu, scale=sigma)\n",
        "\n",
        "print(phi)"
      ],
      "metadata": {
        "id": "o3yAc_n2sbky",
        "colab": {
          "base_uri": "https://localhost:8080/"
        },
        "outputId": "e84d3ec7-965f-4e44-b532-3915a11fdd9a"
      },
      "execution_count": 9,
      "outputs": [
        {
          "output_type": "stream",
          "name": "stdout",
          "text": [
            "1.4730805612132933\n"
          ]
        }
      ]
    },
    {
      "cell_type": "code",
      "source": [
        "def create_neural_network(input_dim, layer_width=25, output_dim=2):\n",
        "    # Define the input layer\n",
        "    inputs = tf.keras.Input(shape=(input_dim,))\n",
        "\n",
        "    # First linear layer\n",
        "    x = tf.keras.layers.Dense(layer_width, activation='tanh')(inputs)\n",
        "\n",
        "    # Add five residual blocks\n",
        "    for _ in range(5):\n",
        "        y = tf.keras.layers.Dense(layer_width, activation='tanh')(x)\n",
        "        y = tf.keras.layers.Dense(layer_width, activation='tanh')(y)\n",
        "        x = tf.keras.layers.Add()([x, y])\n",
        "\n",
        "    # Final linear layer\n",
        "    outputs = tf.keras.layers.Dense(output_dim)(x)\n",
        "\n",
        "    model = tf.keras.Model(inputs=inputs, outputs=outputs)\n",
        "    return model\n",
        "\n",
        "# Use GPU for model creation\n",
        "with tf.device('/GPU:0'):\n",
        "    model = create_neural_network(input_dim=2)\n",
        "\n",
        "# Prepare input data (example)\n",
        "input_data = np.array([[0.5, -0.5],\n",
        "                       [1.0, 0.0],\n",
        "                       [-0.5, 0.5]])\n",
        "\n",
        "# Make predictions\n",
        "output_data = model.predict(input_data)\n",
        "\n",
        "print(\"Output Data:\")\n",
        "print(output_data)"
      ],
      "metadata": {
        "id": "dBKB-G3thPfZ",
        "colab": {
          "base_uri": "https://localhost:8080/"
        },
        "outputId": "0aa38c18-e97b-49b6-d22f-7e3b6341f632"
      },
      "execution_count": 37,
      "outputs": [
        {
          "output_type": "stream",
          "name": "stdout",
          "text": [
            "1/1 [==============================] - 0s 322ms/step\n",
            "Output Data:\n",
            "[[-0.37322935 -1.8405745 ]\n",
            " [-0.50527567 -1.7815351 ]\n",
            " [ 0.37322935  1.8405745 ]]\n"
          ]
        }
      ]
    },
    {
      "cell_type": "code",
      "source": [
        "import scipy.integrate as integrate\n",
        "from scipy.stats import norm\n",
        "\n",
        "def G_function(x, z):\n",
        "    \"\"\"Define the function G(x, z).\"\"\"\n",
        "    return x * np.exp(z)\n",
        "\n",
        "def normal_pdf(z, mu, sigma):\n",
        "    \"\"\"Normal probability density function.\"\"\"\n",
        "    return (1 / (np.sqrt(2 * np.pi) * sigma)) * np.exp(-((z - mu) ** 2) / (2 * sigma ** 2))\n",
        "\n",
        "def integral_G_phi(x, mu, sigma, G_func, phi_func):\n",
        "    \"\"\"Calculate the integral of G_func(x, z) * phi_func(z) over R.\"\"\"\n",
        "    def integrand(z):\n",
        "        return G_func(x, z) * phi_func(z, mu, sigma)\n",
        "\n",
        "    # Perform the integration over the entire real line\n",
        "    result, _ = integrate.quad(integrand, -500, 500)\n",
        "    return result\n",
        "\n",
        "# Example usage:\n",
        "mu = 0.4\n",
        "sigma = 0.25\n",
        "x = 1  # Example value for x\n",
        "integral = integral_G_phi(x, mu, sigma, G_function, normal_pdf)\n",
        "print(integral)\n"
      ],
      "metadata": {
        "id": "yMBpKrUNrvGa",
        "outputId": "36405ac6-dd2e-40ae-a8a9-09a7f593c27e",
        "colab": {
          "base_uri": "https://localhost:8080/"
        }
      },
      "execution_count": 19,
      "outputs": [
        {
          "output_type": "stream",
          "name": "stdout",
          "text": [
            "1.5391802969357231\n"
          ]
        }
      ]
    },
    {
      "cell_type": "code",
      "source": [
        "np.random.seed(SEED)\n",
        "\n",
        "# Define Constants\n",
        "\n",
        "lambda_poisson = 0.3\n",
        "mu = 0.4\n",
        "sigma = 0.25\n",
        "\n",
        "T = 1.0  # Total time\n",
        "N = 50  # Number of time intervals\n",
        "# M = 1000  # Number of samples/trajectories\n",
        "# Iterations = 400  # Number of iterations\n",
        "\n",
        "# unit tests\n",
        "M = 5  # Number of samples/trajectories\n",
        "Iterations = 1  # Number of iterations\n",
        "\n",
        "initial_learning_rate = 5e-5\n",
        "\n",
        "# Generate equally spaced time snapshots from 0 to T\n",
        "time_steps = np.linspace(0, T, N+1)\n",
        "\n",
        "# Initialize NN model\n",
        "d = 1 # problem's dimensionality\n",
        "input_dim = d + 1\n",
        "with tf.device('/GPU:0'):\n",
        "  model = create_neural_network(input_dim)\n",
        "\n",
        "\n",
        "for iteration in range(Iterations):\n",
        "  brownian_motions = sample_brownian_motion(M, time_steps)\n",
        "  levy_jumps = sample_levy_jumps(M, lambda_poisson, mu, sigma, T)\n",
        "\n",
        "  X = [[0 for _ in range(M)] for _ in range(N+1)]\n",
        "  Y = [[0 for _ in range(M)] for _ in range(N+1)]\n",
        "\n",
        "  for timestep, time in enumerate(time_steps):\n",
        "    if timestep == 0:\n",
        "      X[timestep] = [1 for _ in range(M)]  # Initial value for PIDE\n",
        "    else:\n",
        "      timestep_pre = timestep - 1\n",
        "      time_pre = time_steps[timestep_pre]\n",
        "      time_diff = time - time_pre\n",
        "\n",
        "      for trajectory in range(M):\n",
        "        arrival_times, jump_sizes = levy_jumps[trajectory]\n",
        "        mask = (arrival_times > time_pre) & (arrival_times <= time)\n",
        "\n",
        "        X[timestep][trajectory] = X[timestep_pre][trajectory] + G_function(X[timestep_pre][trajectory], jump_sizes[mask]).sum() + time_diff * lambda_poisson * integral_G_phi(X[timestep_pre][trajectory], mu, sigma, G_function, normal_pdf)\n",
        "\n",
        ""
      ],
      "metadata": {
        "id": "fU6Q2QUrlRGM"
      },
      "execution_count": 34,
      "outputs": []
    },
    {
      "cell_type": "code",
      "source": [
        "X"
      ],
      "metadata": {
        "id": "FI1OHZDBMudA",
        "colab": {
          "base_uri": "https://localhost:8080/"
        },
        "outputId": "1c49ad8d-dcca-4029-ba7f-885c7b9f2ed6"
      },
      "execution_count": 35,
      "outputs": [
        {
          "output_type": "execute_result",
          "data": {
            "text/plain": [
              "[[1, 1, 1, 1, 1],\n",
              " [1.0092350817816143,\n",
              "  1.0092350817816143,\n",
              "  1.0092350817816143,\n",
              "  1.0092350817816143,\n",
              "  1.0092350817816143],\n",
              " [1.0185554502987417,\n",
              "  1.0185554502987417,\n",
              "  1.0185554502987417,\n",
              "  1.0185554502987417,\n",
              "  1.0185554502987417],\n",
              " [1.0279618931813597,\n",
              "  1.0279618931813597,\n",
              "  2.572816118954405,\n",
              "  1.0279618931813597,\n",
              "  1.0279618931813597],\n",
              " [1.0374552053332726,\n",
              "  1.0374552053332726,\n",
              "  2.5965762862220045,\n",
              "  1.0374552053332726,\n",
              "  1.0374552053332726],\n",
              " [1.047036188999287,\n",
              "  1.047036188999287,\n",
              "  2.620555880577465,\n",
              "  1.047036188999287,\n",
              "  1.047036188999287],\n",
              " [1.056705653833005,\n",
              "  1.056705653833005,\n",
              "  2.6447569284478885,\n",
              "  1.056705653833005,\n",
              "  1.056705653833005],\n",
              " [1.066464416965247,\n",
              "  1.066464416965247,\n",
              "  2.6691814749745957,\n",
              "  1.066464416965247,\n",
              "  1.066464416965247],\n",
              " [1.0763133030731027,\n",
              "  1.0763133030731027,\n",
              "  2.693831584185956,\n",
              "  1.0763133030731027,\n",
              "  1.0763133030731027],\n",
              " [1.0862531444496222,\n",
              "  1.0862531444496222,\n",
              "  2.718709339171809,\n",
              "  1.0862531444496222,\n",
              "  1.0862531444496222],\n",
              " [1.0962847810741503,\n",
              "  1.0962847810741503,\n",
              "  2.7438168422594993,\n",
              "  1.0962847810741503,\n",
              "  1.0962847810741503],\n",
              " [1.1064090606833092,\n",
              "  1.1064090606833092,\n",
              "  2.7691562151915368,\n",
              "  1.1064090606833092,\n",
              "  1.1064090606833092],\n",
              " [1.1166268388426388,\n",
              "  1.1166268388426388,\n",
              "  2.794729599304896,\n",
              "  1.1166268388426388,\n",
              "  1.1166268388426388],\n",
              " [1.1269389790188962,\n",
              "  1.1269389790188962,\n",
              "  2.820539155711975,\n",
              "  1.1269389790188962,\n",
              "  1.1269389790188962],\n",
              " [1.1373463526530248,\n",
              "  1.1373463526530248,\n",
              "  2.8465870654832206,\n",
              "  1.1373463526530248,\n",
              "  1.1373463526530248],\n",
              " [1.1478498392337961,\n",
              "  1.1478498392337961,\n",
              "  2.8728755298314437,\n",
              "  1.1478498392337961,\n",
              "  1.1478498392337961],\n",
              " [1.158450326372133,\n",
              "  1.158450326372133,\n",
              "  2.8994067702978357,\n",
              "  1.158450326372133,\n",
              "  1.158450326372133],\n",
              " [1.1691487098761175,\n",
              "  1.1691487098761175,\n",
              "  2.9261830289397026,\n",
              "  1.1691487098761175,\n",
              "  1.1691487098761175],\n",
              " [1.1799458938266922,\n",
              "  1.1799458938266922,\n",
              "  2.9532065685199327,\n",
              "  1.1799458938266922,\n",
              "  1.1799458938266922],\n",
              " [1.1908427906540617,\n",
              "  1.1908427906540617,\n",
              "  2.980479672698215,\n",
              "  1.1908427906540617,\n",
              "  1.1908427906540617],\n",
              " [1.201840321214798,\n",
              "  1.201840321214798,\n",
              "  3.008004646224022,\n",
              "  1.201840321214798,\n",
              "  1.201840321214798],\n",
              " [1.2129394148696582,\n",
              "  1.2129394148696582,\n",
              "  3.0357838151313765,\n",
              "  1.2129394148696582,\n",
              "  1.2129394148696582],\n",
              " [1.224141009562123,\n",
              "  1.224141009562123,\n",
              "  3.063819526935416,\n",
              "  1.224141009562123,\n",
              "  1.224141009562123],\n",
              " [1.235446051897657,\n",
              "  1.235446051897657,\n",
              "  3.0921141508307715,\n",
              "  1.235446051897657,\n",
              "  1.235446051897657],\n",
              " [1.2468554972237045,\n",
              "  1.2468554972237045,\n",
              "  3.1206700778917806,\n",
              "  1.2468554972237045,\n",
              "  1.2468554972237045],\n",
              " [1.2583703097104209,\n",
              "  1.2583703097104209,\n",
              "  3.149489721274548,\n",
              "  1.2583703097104209,\n",
              "  1.2583703097104209],\n",
              " [1.269991462432152,\n",
              "  1.269991462432152,\n",
              "  3.178575516420872,\n",
              "  1.269991462432152,\n",
              "  1.269991462432152],\n",
              " [1.2817199374496648,\n",
              "  1.2817199374496648,\n",
              "  3.207929921264056,\n",
              "  1.2817199374496648,\n",
              "  1.2817199374496648],\n",
              " [1.2935567258931382,\n",
              "  1.2935567258931382,\n",
              "  3.2375554164366176,\n",
              "  1.2935567258931382,\n",
              "  3.0114437570402286],\n",
              " [1.3055028280459187,\n",
              "  1.3055028280459187,\n",
              "  3.2674545054799182,\n",
              "  1.3055028280459187,\n",
              "  3.0392546864172267],\n",
              " [1.3175592534290514,\n",
              "  1.3175592534290514,\n",
              "  3.2976297150557294,\n",
              "  1.3175592534290514,\n",
              "  3.0673224520014446],\n",
              " [1.3297270208865914,\n",
              "  1.3297270208865914,\n",
              "  3.3280835951597507,\n",
              "  1.3297270208865914,\n",
              "  3.09564942569626],\n",
              " [1.3420071586717015,\n",
              "  1.3420071586717015,\n",
              "  3.3588187193371,\n",
              "  1.3420071586717015,\n",
              "  3.1242380013097724],\n",
              " [1.3544007045335467,\n",
              "  1.3544007045335467,\n",
              "  3.389837684899795,\n",
              "  3.0123152325075884,\n",
              "  3.1530905947570953],\n",
              " [1.36690870580499,\n",
              "  1.36690870580499,\n",
              "  3.421143113146243,\n",
              "  3.0401342100317987,\n",
              "  3.1822096442645162],\n",
              " [1.3795322194910997,\n",
              "  1.3795322194910997,\n",
              "  3.452737649582755,\n",
              "  3.068210098088526,\n",
              "  3.211597610575541],\n",
              " [1.392272312358472,\n",
              "  1.392272312358472,\n",
              "  3.4846239641471106,\n",
              "  3.096545269267548,\n",
              "  3.241256977158843],\n",
              " [1.4051300610253796,\n",
              "  1.4051300610253796,\n",
              "  3.5168047514341825,\n",
              "  3.125142118069705,\n",
              "  3.271190250418133],\n",
              " [1.4181065520527538,\n",
              "  1.4181065520527538,\n",
              "  3.549282730923647,\n",
              "  3.154003061109246,\n",
              "  3.3013999599039643],\n",
              " [1.431202882036004,\n",
              "  1.431202882036004,\n",
              "  3.5820606472097984,\n",
              "  3.183130537318052,\n",
              "  3.331888658527496],\n",
              " [1.4444201576976887,\n",
              "  1.4444201576976887,\n",
              "  3.6151412702334835,\n",
              "  3.2125270081517385,\n",
              "  3.3626589227762307],\n",
              " [1.4577594959810392,\n",
              "  1.4577594959810392,\n",
              "  3.648527395516179,\n",
              "  3.2421949577976648,\n",
              "  3.3937133529317443],\n",
              " [1.471222024144349,\n",
              "  1.471222024144349,\n",
              "  3.682221844396231,\n",
              "  3.2721368933848636,\n",
              "  3.4250545732894255],\n",
              " [1.4848088798562342,\n",
              "  1.4848088798562342,\n",
              "  3.716227464267277,\n",
              "  3.3023553451959105,\n",
              "  3.4566852323802455],\n",
              " [1.4985212112917736,\n",
              "  1.4985212112917736,\n",
              "  3.7505471288188668,\n",
              "  3.332852866880746,\n",
              "  3.488608003194576],\n",
              " [1.512360177229537,\n",
              "  1.512360177229537,\n",
              "  3.785183738279308,\n",
              "  3.3636320356724774,\n",
              "  3.520825583408072],\n",
              " [1.5263269471495085,\n",
              "  1.5263269471495085,\n",
              "  3.820140219660754,\n",
              "  3.3946954526051707,\n",
              "  3.5533406956096454],\n",
              " [1.5404227013319158,\n",
              "  1.5404227013319158,\n",
              "  3.855419527006555,\n",
              "  3.426045742733654,\n",
              "  3.586156087531539],\n",
              " [1.5546486309569714,\n",
              "  1.5546486309569714,\n",
              "  3.8910246416408936,\n",
              "  3.4576855553553507,\n",
              "  3.6192745322815263],\n",
              " [1.5690059382055337,\n",
              "  1.5690059382055337,\n",
              "  3.9269585724207237,\n",
              "  3.489617564234164,\n",
              "  9.86762673188272],\n",
              " [1.5834958363607003,\n",
              "  1.5834958363607003,\n",
              "  3.9632243559900404,\n",
              "  3.521844467826424,\n",
              "  9.9587550717421]]"
            ]
          },
          "metadata": {},
          "execution_count": 35
        }
      ]
    },
    {
      "cell_type": "code",
      "source": [
        "levy_jumps"
      ],
      "metadata": {
        "colab": {
          "base_uri": "https://localhost:8080/"
        },
        "id": "_PDarkaEuRai",
        "outputId": "9adcbc4e-34cc-4bf2-c646-49e748d36228"
      },
      "execution_count": 36,
      "outputs": [
        {
          "output_type": "execute_result",
          "data": {
            "text/plain": [
              "[(array([], dtype=float64), array([], dtype=float64)),\n",
              " (array([], dtype=float64), array([], dtype=float64)),\n",
              " (array([0.05681441]), array([0.41654416])),\n",
              " (array([0.65391562]), array([0.21139413])),\n",
              " (array([0.55661311, 0.97317169]), array([0.29289219, 0.54068052]))]"
            ]
          },
          "metadata": {},
          "execution_count": 36
        }
      ]
    },
    {
      "cell_type": "code",
      "source": [],
      "metadata": {
        "id": "mAuMwyrNuYEM"
      },
      "execution_count": null,
      "outputs": []
    }
  ]
}