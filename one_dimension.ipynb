{
  "nbformat": 4,
  "nbformat_minor": 0,
  "metadata": {
    "colab": {
      "provenance": [],
      "gpuType": "T4",
      "authorship_tag": "ABX9TyOVaVqvehkYXHhcuX5pzeUp",
      "include_colab_link": true
    },
    "kernelspec": {
      "name": "python3",
      "display_name": "Python 3"
    },
    "language_info": {
      "name": "python"
    },
    "accelerator": "GPU"
  },
  "cells": [
    {
      "cell_type": "markdown",
      "metadata": {
        "id": "view-in-github",
        "colab_type": "text"
      },
      "source": [
        "<a href=\"https://colab.research.google.com/github/GN-Yu/TSRL-project/blob/main/one_dimension.ipynb\" target=\"_parent\"><img src=\"https://colab.research.google.com/assets/colab-badge.svg\" alt=\"Open In Colab\"/></a>"
      ]
    },
    {
      "cell_type": "code",
      "source": [
        "import os\n",
        "import psutil\n",
        "import tensorflow as tf\n",
        "import subprocess\n",
        "\n",
        "# Function to execute shell command and return output\n",
        "def run_shell_command(cmd):\n",
        "    return subprocess.run(cmd, stdout=subprocess.PIPE, shell=True).stdout.decode('utf-8').strip()\n",
        "\n",
        "# Check CPU\n",
        "cpu_info = run_shell_command(\"cat /proc/cpuinfo | grep 'model name' | uniq\")\n",
        "print(\"CPU:\", cpu_info.split(\":\")[1].strip() if cpu_info else \"Not available\")\n",
        "\n",
        "# Number of CPU Cores\n",
        "num_cores = os.cpu_count()\n",
        "print(\"Number of CPU cores:\", num_cores)\n",
        "\n",
        "# Total RAM\n",
        "ram_info = psutil.virtual_memory()\n",
        "total_ram = ram_info.total / (1024 ** 3)  # Convert bytes to GB\n",
        "print(f\"Total RAM : {total_ram} GB\")\n",
        "\n",
        "# Check GPU\n",
        "gpu_info = !nvidia-smi --query-gpu=gpu_name,memory.total --format=csv\n",
        "if gpu_info and len(gpu_info) > 1:\n",
        "    gpu_name = gpu_info[1].split(',')[0]\n",
        "    gpu_memory_mib = float(gpu_info[1].split()[2])  # Extract the memory in MiB\n",
        "    gpu_memory_gb = gpu_memory_mib / 1024\n",
        "    print(f\"GPU: {gpu_name}, {gpu_memory_gb} GB\")\n",
        "else:\n",
        "    print(\"GPU: Not available\")\n",
        "\n",
        "# TensorFlow info\n",
        "print(f\"TensorFlow version: {tf.__version__}\")\n",
        "print(\"TensorFlow GPU Availability:\", tf.test.is_gpu_available())"
      ],
      "metadata": {
        "colab": {
          "base_uri": "https://localhost:8080/"
        },
        "id": "lgd5Aprvn-O3",
        "outputId": "cd7cb9b7-076a-44c4-989f-c2eeb548ff8a"
      },
      "execution_count": 1,
      "outputs": [
        {
          "output_type": "stream",
          "name": "stdout",
          "text": [
            "CPU: Intel(R) Xeon(R) CPU @ 2.20GHz\n",
            "Number of CPU cores: 2\n",
            "Total RAM : 12.674789428710938 GB\n"
          ]
        },
        {
          "output_type": "stream",
          "name": "stderr",
          "text": [
            "WARNING:tensorflow:From <ipython-input-1-f4feeca38a4f>:35: is_gpu_available (from tensorflow.python.framework.test_util) is deprecated and will be removed in a future version.\n",
            "Instructions for updating:\n",
            "Use `tf.config.list_physical_devices('GPU')` instead.\n"
          ]
        },
        {
          "output_type": "stream",
          "name": "stdout",
          "text": [
            "GPU: Tesla T4, 15.0 GB\n",
            "TensorFlow version: 2.14.0\n",
            "TensorFlow GPU Availability: True\n"
          ]
        }
      ]
    },
    {
      "cell_type": "code",
      "execution_count": 2,
      "metadata": {
        "id": "xVz5AilONonQ"
      },
      "outputs": [],
      "source": [
        "\n",
        "# organize files\n",
        "import os\n",
        "for dirname, _, filenames in os.walk('/content/drive/MyDrive/TSRL_project'):\n",
        "    for filename in filenames:\n",
        "        print(os.path.join(dirname, filename))"
      ]
    },
    {
      "cell_type": "code",
      "source": [
        "import numpy as np\n",
        "\n",
        "# Set random seed\n",
        "SEED = 2023\n",
        "tf.random.set_seed(SEED)\n",
        "np.random.seed(SEED)"
      ],
      "metadata": {
        "id": "BeEgglCXOEEa"
      },
      "execution_count": 3,
      "outputs": []
    },
    {
      "cell_type": "code",
      "source": [
        "def sample_brownian_motion(num_trajectories, time_steps):\n",
        "    \"\"\"\n",
        "    Function to sample Brownian motion for the specified number of trajectories and time steps.\n",
        "\n",
        "    :param num_trajectories: The number of trajectories to simulate.\n",
        "    :param time_steps: A numpy array of time steps.\n",
        "    :return: A numpy array of shape (num_trajectories, len(time_steps)-1) representing the Brownian increments.\n",
        "    \"\"\"\n",
        "    # Calculate time intervals (delta_t) as differences between consecutive time steps\n",
        "    delta_t = np.diff(time_steps)\n",
        "\n",
        "    # Sample Brownian increments ∆W for each time interval and each trajectory\n",
        "    brownian_increments = np.random.normal(0, np.sqrt(delta_t), (num_trajectories, len(delta_t)))\n",
        "\n",
        "    return brownian_increments\n",
        "\n",
        "def sample_initial_states(num_samples):\n",
        "    # Implement initial state sampling here\n",
        "    pass\n",
        "\n"
      ],
      "metadata": {
        "id": "hVDp3bo8QXp9"
      },
      "execution_count": 4,
      "outputs": []
    },
    {
      "cell_type": "code",
      "source": [
        "def sample_levy_jumps(num_trajectories, lambda_param, phi_function, time_horizon):\n",
        "    \"\"\"\n",
        "    Function to sample jumps from a Lévy process for the specified number of trajectories.\n",
        "\n",
        "    :param num_trajectories: The number of trajectories to simulate.\n",
        "    :param lambda_param: The intensity parameter λ of the Poisson process.\n",
        "    :param phi_function: The density function ϕ(z) of the jump sizes.\n",
        "    :param time_horizon: The total time horizon T.\n",
        "    :return: A list containing tuples (jump_times, jump_sizes) for each trajectory.\n",
        "    \"\"\"\n",
        "    jumps = []\n",
        "\n",
        "    for _ in range(num_trajectories):\n",
        "        # Step (a): Generate a sequence of exponential distributions with parameter λ\n",
        "        exponential_samples = np.random.exponential(1/lambda_param, 1000)  # Generate a large number of samples\n",
        "\n",
        "        # Step (b): Compute the cumulative sum to get the arrival times of the Poisson process\n",
        "        arrival_times = np.cumsum(exponential_samples)\n",
        "        arrival_times = arrival_times[arrival_times <= time_horizon]  # Filter times beyond the time horizon\n",
        "\n",
        "        # Step (c): Sample from ϕ(z) for each arrival time to get the jump sizes\n",
        "        jump_sizes = np.array([np.random.normal(0, 1) for _ in arrival_times])\n",
        "\n",
        "        jumps.append((arrival_times, jump_sizes))\n",
        "\n",
        "    return jumps\n",
        "\n",
        "# Example usage\n",
        "lambda_param = 0.3  # Intensity parameter λ of the Poisson process\n",
        "time_horizon = 1    # Total time horizon T\n",
        "M = 1000  # Number of samples/trajectories\n",
        "\n",
        "# Example density function ϕ(z) (e.g., normal distribution)\n",
        "def phi_function():\n",
        "    return np.random.normal(0, 1)  # Replace with the actual density function used in your problem\n",
        "\n",
        "np.random.seed(SEED)\n",
        "\n",
        "# Simulate jumps for a specific number of trajectories\n",
        "levy_jumps = sample_levy_jumps(M, lambda_param, phi_function, time_horizon)\n",
        "\n",
        "# Example output of the first trajectory's jumps\n",
        "for i in range(10):\n",
        "  print(levy_jumps[i])  # (array of arrival times, array of jump sizes)\n",
        "\n",
        "\n",
        "print(len(levy_jumps))"
      ],
      "metadata": {
        "id": "6JtPhxdcyUI3",
        "outputId": "bfeb5059-157d-4167-dc3d-c1cee6de680a",
        "colab": {
          "base_uri": "https://localhost:8080/"
        }
      },
      "execution_count": 15,
      "outputs": [
        {
          "output_type": "stream",
          "name": "stdout",
          "text": [
            "(array([], dtype=float64), array([], dtype=float64))\n",
            "(array([], dtype=float64), array([], dtype=float64))\n",
            "(array([0.83590594]), array([1.51761877]))\n",
            "(array([0.082762]), array([-0.11873037]))\n",
            "(array([], dtype=float64), array([], dtype=float64))\n",
            "(array([0.62719477]), array([-1.14039301]))\n",
            "(array([], dtype=float64), array([], dtype=float64))\n",
            "(array([], dtype=float64), array([], dtype=float64))\n",
            "(array([0.80695252]), array([-0.46033369]))\n",
            "(array([0.44614681, 0.99265044]), array([ 0.15199075, -0.01471334]))\n",
            "1000\n"
          ]
        }
      ]
    },
    {
      "cell_type": "code",
      "source": [
        "def create_neural_network(input_dim, layer_width=25, output_dim=2):\n",
        "    # Define the input layer\n",
        "    inputs = tf.keras.Input(shape=(input_dim,))\n",
        "\n",
        "    # First linear layer\n",
        "    x = tf.keras.layers.Dense(layer_width, activation='tanh')(inputs)\n",
        "\n",
        "    # Add five residual blocks\n",
        "    for _ in range(5):\n",
        "        y = tf.keras.layers.Dense(layer_width, activation='tanh')(x)\n",
        "        y = tf.keras.layers.Dense(layer_width, activation='tanh')(y)\n",
        "        x = tf.keras.layers.Add()([x, y])\n",
        "\n",
        "    # Final linear layer\n",
        "    outputs = tf.keras.layers.Dense(output_dim)(x)\n",
        "\n",
        "    model = tf.keras.Model(inputs=inputs, outputs=outputs)\n",
        "    return model"
      ],
      "metadata": {
        "id": "dBKB-G3thPfZ"
      },
      "execution_count": null,
      "outputs": []
    },
    {
      "cell_type": "code",
      "source": [
        "d = 1\n",
        "input_dim = d + 1  # Set 'd' as problem's dimensionality\n",
        "model = create_neural_network(input_dim)"
      ],
      "metadata": {
        "id": "v5tbgOHFhpCP"
      },
      "execution_count": null,
      "outputs": []
    },
    {
      "cell_type": "code",
      "source": [
        "mu = 0.4\n",
        "sigma = 0.25\n",
        "z = 0.5\n",
        "phi = np.random.normal(mu, sigma, z)"
      ],
      "metadata": {
        "id": "2e-1Sg8wcKJN",
        "outputId": "133ebe92-80e1-4827-b7ff-df7f6434264e",
        "colab": {
          "base_uri": "https://localhost:8080/",
          "height": 281
        }
      },
      "execution_count": 25,
      "outputs": [
        {
          "output_type": "error",
          "ename": "TypeError",
          "evalue": "ignored",
          "traceback": [
            "\u001b[0;31m---------------------------------------------------------------------------\u001b[0m",
            "\u001b[0;31mTypeError\u001b[0m                                 Traceback (most recent call last)",
            "\u001b[0;32m<ipython-input-25-816df8dc6bd1>\u001b[0m in \u001b[0;36m<cell line: 4>\u001b[0;34m()\u001b[0m\n\u001b[1;32m      2\u001b[0m \u001b[0msigma\u001b[0m \u001b[0;34m=\u001b[0m \u001b[0;36m0.25\u001b[0m\u001b[0;34m\u001b[0m\u001b[0;34m\u001b[0m\u001b[0m\n\u001b[1;32m      3\u001b[0m \u001b[0mz\u001b[0m \u001b[0;34m=\u001b[0m \u001b[0;36m0.5\u001b[0m\u001b[0;34m\u001b[0m\u001b[0;34m\u001b[0m\u001b[0m\n\u001b[0;32m----> 4\u001b[0;31m \u001b[0mphi\u001b[0m \u001b[0;34m=\u001b[0m \u001b[0mnp\u001b[0m\u001b[0;34m.\u001b[0m\u001b[0mrandom\u001b[0m\u001b[0;34m.\u001b[0m\u001b[0mnormal\u001b[0m\u001b[0;34m(\u001b[0m\u001b[0mmu\u001b[0m\u001b[0;34m,\u001b[0m \u001b[0msigma\u001b[0m\u001b[0;34m,\u001b[0m \u001b[0mz\u001b[0m\u001b[0;34m)\u001b[0m\u001b[0;34m\u001b[0m\u001b[0;34m\u001b[0m\u001b[0m\n\u001b[0m",
            "\u001b[0;32mmtrand.pyx\u001b[0m in \u001b[0;36mnumpy.random.mtrand.RandomState.normal\u001b[0;34m()\u001b[0m\n",
            "\u001b[0;32m_common.pyx\u001b[0m in \u001b[0;36mnumpy.random._common.cont\u001b[0;34m()\u001b[0m\n",
            "\u001b[0;31mTypeError\u001b[0m: expected a sequence of integers or a single integer, got '0.5'"
          ]
        }
      ]
    },
    {
      "cell_type": "code",
      "source": [
        "# Define Constants\n",
        "\n",
        "lambda_poisson = 0.3\n",
        "mu = 0.4\n",
        "sigma = 0.25\n",
        "\n",
        "def phi_function():\n",
        "    return np.random.normal(0, 1)\n",
        "\n",
        "def G_function(x, z):\n",
        "  return x * np.exp(z)\n",
        "\n",
        "T = 1.0  # Total time\n",
        "N = 50  # Number of time intervals\n",
        "M = 1000  # Number of samples/trajectories\n",
        "Iterations = 400  # Number of iterations\n",
        "\n",
        "initial_learning_rate = 5e-5\n",
        "\n",
        "# Generate equally spaced time snapshots from 0 to T\n",
        "time_steps = np.linspace(0, T, N+1)\n",
        "\n",
        "\n",
        "for iteration in range(Iterations):\n",
        "  brownian_motions = sample_brownian_motion(M, time_steps)\n",
        "  levy_jumps = sample_levy_jumps(M, lambda_poisson, phi_function, T)\n",
        "\n",
        "  X = [[0 for _ in range(M)] for _ in range(N+1)]\n",
        "  Y = [[0 for _ in range(M)] for _ in range(N+1)]\n",
        "\n",
        "  for timestep, time in enumerate(time_steps):\n",
        "    if timestep == 0:\n",
        "      X[timestep] = [1 for _ in range(M)]  # Initial value for PIDE\n",
        "    else:\n",
        "      time_pre = time_steps[timestep-1]\n",
        "      time_diff = time - time_pre\n",
        "\n",
        "      for trajectory in range(M):\n",
        "        arrival_times, jump_sizes = levy_jumps[trajectory]\n",
        "        mask = (arrival_times > time_pre) & (arrival_times <= time)\n",
        "\n",
        "        X[timestep] = X[timestep] + G_function(X[timestep][trajectory], jump_sizes[mask]).sum() + time_diff *"
      ],
      "metadata": {
        "id": "fU6Q2QUrlRGM",
        "outputId": "be4e58a0-3945-4bc8-c06f-7f01c3426755",
        "colab": {
          "base_uri": "https://localhost:8080/",
          "height": 246
        }
      },
      "execution_count": 23,
      "outputs": [
        {
          "output_type": "error",
          "ename": "KeyboardInterrupt",
          "evalue": "ignored",
          "traceback": [
            "\u001b[0;31m---------------------------------------------------------------------------\u001b[0m",
            "\u001b[0;31mKeyboardInterrupt\u001b[0m                         Traceback (most recent call last)",
            "\u001b[0;32m<ipython-input-23-e24f2f97fdd1>\u001b[0m in \u001b[0;36m<cell line: 24>\u001b[0;34m()\u001b[0m\n\u001b[1;32m     37\u001b[0m         \u001b[0mmask\u001b[0m \u001b[0;34m=\u001b[0m \u001b[0;34m(\u001b[0m\u001b[0marrival_times\u001b[0m \u001b[0;34m>\u001b[0m \u001b[0mtime_steps\u001b[0m\u001b[0;34m[\u001b[0m\u001b[0mtimestep\u001b[0m\u001b[0;34m-\u001b[0m\u001b[0;36m1\u001b[0m\u001b[0;34m]\u001b[0m\u001b[0;34m)\u001b[0m \u001b[0;34m&\u001b[0m \u001b[0;34m(\u001b[0m\u001b[0marrival_times\u001b[0m \u001b[0;34m<=\u001b[0m \u001b[0mtime_steps\u001b[0m\u001b[0;34m[\u001b[0m\u001b[0mtimestep\u001b[0m\u001b[0;34m]\u001b[0m\u001b[0;34m)\u001b[0m\u001b[0;34m\u001b[0m\u001b[0;34m\u001b[0m\u001b[0m\n\u001b[1;32m     38\u001b[0m \u001b[0;34m\u001b[0m\u001b[0m\n\u001b[0;32m---> 39\u001b[0;31m         \u001b[0mG_function\u001b[0m\u001b[0;34m(\u001b[0m\u001b[0mX\u001b[0m\u001b[0;34m[\u001b[0m\u001b[0mtimestep\u001b[0m\u001b[0;34m]\u001b[0m\u001b[0;34m[\u001b[0m\u001b[0mtrajectory\u001b[0m\u001b[0;34m]\u001b[0m\u001b[0;34m,\u001b[0m \u001b[0mjump_sizes\u001b[0m\u001b[0;34m[\u001b[0m\u001b[0mmask\u001b[0m\u001b[0;34m]\u001b[0m\u001b[0;34m)\u001b[0m\u001b[0;34m.\u001b[0m\u001b[0msum\u001b[0m\u001b[0;34m(\u001b[0m\u001b[0;34m)\u001b[0m\u001b[0;34m\u001b[0m\u001b[0;34m\u001b[0m\u001b[0m\n\u001b[0m\u001b[1;32m     40\u001b[0m \u001b[0;34m\u001b[0m\u001b[0m\n\u001b[1;32m     41\u001b[0m       \u001b[0;31m# X[timestep] = X[timestep] +\u001b[0m\u001b[0;34m\u001b[0m\u001b[0;34m\u001b[0m\u001b[0m\n",
            "\u001b[0;31mKeyboardInterrupt\u001b[0m: "
          ]
        }
      ]
    },
    {
      "cell_type": "code",
      "source": [],
      "metadata": {
        "id": "FI1OHZDBMudA"
      },
      "execution_count": null,
      "outputs": []
    }
  ]
}