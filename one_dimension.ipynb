{
  "nbformat": 4,
  "nbformat_minor": 0,
  "metadata": {
    "colab": {
      "provenance": [],
      "gpuType": "T4",
      "authorship_tag": "ABX9TyMbgVKHbMq3DRAZF9pQWcZK",
      "include_colab_link": true
    },
    "kernelspec": {
      "name": "python3",
      "display_name": "Python 3"
    },
    "language_info": {
      "name": "python"
    },
    "accelerator": "GPU"
  },
  "cells": [
    {
      "cell_type": "markdown",
      "metadata": {
        "id": "view-in-github",
        "colab_type": "text"
      },
      "source": [
        "<a href=\"https://colab.research.google.com/github/GN-Yu/TSRL-project/blob/main/one_dimension.ipynb\" target=\"_parent\"><img src=\"https://colab.research.google.com/assets/colab-badge.svg\" alt=\"Open In Colab\"/></a>"
      ]
    },
    {
      "cell_type": "code",
      "source": [
        "import os\n",
        "import psutil\n",
        "import tensorflow as tf\n",
        "import subprocess\n",
        "\n",
        "# Function to execute shell command and return output\n",
        "def run_shell_command(cmd):\n",
        "    return subprocess.run(cmd, stdout=subprocess.PIPE, shell=True).stdout.decode('utf-8').strip()\n",
        "\n",
        "# Check CPU\n",
        "cpu_info = run_shell_command(\"cat /proc/cpuinfo | grep 'model name' | uniq\")\n",
        "print(\"CPU:\", cpu_info.split(\":\")[1].strip() if cpu_info else \"Not available\")\n",
        "\n",
        "# Number of CPU Cores\n",
        "num_cores = os.cpu_count()\n",
        "print(\"Number of CPU cores:\", num_cores)\n",
        "\n",
        "# Total RAM\n",
        "ram_info = psutil.virtual_memory()\n",
        "total_ram = ram_info.total / (1024 ** 3)  # Convert bytes to GB\n",
        "print(f\"Total RAM : {total_ram} GB\")\n",
        "\n",
        "# Check GPU\n",
        "gpu_info = !nvidia-smi --query-gpu=gpu_name,memory.total --format=csv\n",
        "if gpu_info and len(gpu_info) > 1:\n",
        "    gpu_name = gpu_info[1].split(',')[0]\n",
        "    gpu_memory_mib = float(gpu_info[1].split()[2])  # Extract the memory in MiB\n",
        "    gpu_memory_gb = gpu_memory_mib / 1024\n",
        "    print(f\"GPU: {gpu_name}, {gpu_memory_gb} GB\")\n",
        "else:\n",
        "    print(\"GPU: Not available\")\n",
        "\n",
        "# TensorFlow info\n",
        "print(f\"TensorFlow version: {tf.__version__}\")\n",
        "print(\"TensorFlow GPU Availability:\", tf.test.is_gpu_available())"
      ],
      "metadata": {
        "colab": {
          "base_uri": "https://localhost:8080/"
        },
        "id": "lgd5Aprvn-O3",
        "outputId": "b1769fc4-feea-4431-95de-fd35b0e2046c"
      },
      "execution_count": 1,
      "outputs": [
        {
          "output_type": "stream",
          "name": "stdout",
          "text": [
            "CPU: Intel(R) Xeon(R) CPU @ 2.00GHz\n",
            "Number of CPU cores: 2\n",
            "Total RAM : 12.6783447265625 GB\n"
          ]
        },
        {
          "output_type": "stream",
          "name": "stderr",
          "text": [
            "WARNING:tensorflow:From <ipython-input-1-f4feeca38a4f>:35: is_gpu_available (from tensorflow.python.framework.test_util) is deprecated and will be removed in a future version.\n",
            "Instructions for updating:\n",
            "Use `tf.config.list_physical_devices('GPU')` instead.\n"
          ]
        },
        {
          "output_type": "stream",
          "name": "stdout",
          "text": [
            "GPU: Tesla T4, 15.0 GB\n",
            "TensorFlow version: 2.14.0\n",
            "TensorFlow GPU Availability: True\n"
          ]
        }
      ]
    },
    {
      "cell_type": "code",
      "execution_count": 2,
      "metadata": {
        "id": "xVz5AilONonQ"
      },
      "outputs": [],
      "source": [
        "\n",
        "# organize files\n",
        "import os\n",
        "for dirname, _, filenames in os.walk('/content/drive/MyDrive/TSRL_project'):\n",
        "    for filename in filenames:\n",
        "        print(os.path.join(dirname, filename))"
      ]
    },
    {
      "cell_type": "code",
      "source": [
        "# Set random seed\n",
        "SEED = 2023\n",
        "tf.random.set_seed(SEED)\n",
        "np.random.seed(SEED)"
      ],
      "metadata": {
        "id": "BeEgglCXOEEa"
      },
      "execution_count": 23,
      "outputs": []
    },
    {
      "cell_type": "code",
      "source": [
        "import numpy as np\n",
        "\n",
        "# Define Constants\n",
        "X0 = 1  # Initial value for PIDE\n",
        "\n",
        "lambda_poisson = 0.3\n",
        "mu = 0.4\n",
        "sigma = 0.25\n",
        "\n",
        "T = 1.0  # Total time\n",
        "N = 50  # Number of time intervals\n",
        "M = 1000  # Number of samples/trajectories\n",
        "Iterations = 400  # Number of iterations\n",
        "\n",
        "initial_learning_rate = 5e-5\n",
        "\n",
        "# Generate equally spaced time snapshots from 0 to T\n",
        "time_steps = np.linspace(0, T, N+1)\n"
      ],
      "metadata": {
        "id": "sAutr4-NO8xI"
      },
      "execution_count": 4,
      "outputs": []
    },
    {
      "cell_type": "code",
      "source": [
        "def sample_brownian_motion(num_trajectories, time_steps):\n",
        "    \"\"\"\n",
        "    Function to sample Brownian motion for the specified number of trajectories and time steps.\n",
        "\n",
        "    :param num_trajectories: The number of trajectories to simulate.\n",
        "    :param time_steps: A numpy array of time steps.\n",
        "    :return: A numpy array of shape (num_trajectories, len(time_steps)-1) representing the Brownian increments.\n",
        "    \"\"\"\n",
        "    # Calculate time intervals (delta_t) as differences between consecutive time steps\n",
        "    delta_t = np.diff(time_steps)\n",
        "\n",
        "    # Sample Brownian increments ∆W for each time interval and each trajectory\n",
        "    brownian_increments = np.random.normal(0, np.sqrt(delta_t), (num_trajectories, len(delta_t)))\n",
        "\n",
        "    return brownian_increments\n",
        "\n",
        "def sample_initial_states(num_samples):\n",
        "    # Implement initial state sampling here\n",
        "    pass\n",
        "\n"
      ],
      "metadata": {
        "id": "hVDp3bo8QXp9"
      },
      "execution_count": 10,
      "outputs": []
    },
    {
      "cell_type": "code",
      "source": [
        "def sample_levy_jumps(num_trajectories, lambda_param, phi_function, time_horizon):\n",
        "    \"\"\"\n",
        "    Function to sample jumps from a Lévy process for the specified number of trajectories.\n",
        "\n",
        "    :param num_trajectories: The number of trajectories to simulate.\n",
        "    :param lambda_param: The intensity parameter λ of the Poisson process.\n",
        "    :param phi_function: The density function ϕ(z) of the jump sizes.\n",
        "    :param time_horizon: The total time horizon T.\n",
        "    :return: A list containing tuples (jump_times, jump_sizes) for each trajectory.\n",
        "    \"\"\"\n",
        "    jumps = []\n",
        "\n",
        "    for _ in range(num_trajectories):\n",
        "        # Step (a): Generate a sequence of exponential distributions with parameter λ\n",
        "        exponential_samples = np.random.exponential(1/lambda_param, 1000)  # Generate a large number of samples\n",
        "\n",
        "        # Step (b): Compute the cumulative sum to get the arrival times of the Poisson process\n",
        "        arrival_times = np.cumsum(exponential_samples)\n",
        "        arrival_times = arrival_times[arrival_times <= time_horizon]  # Filter times beyond the time horizon\n",
        "\n",
        "        # Step (c): Sample from ϕ(z) for each arrival time to get the jump sizes\n",
        "        jump_sizes = np.array([phi_function() for _ in arrival_times])\n",
        "\n",
        "        jumps.append((arrival_times, jump_sizes))\n",
        "\n",
        "    return jumps\n",
        "\n",
        "# Example usage\n",
        "lambda_param = 0.3  # Intensity parameter λ of the Poisson process\n",
        "time_horizon = 1    # Total time horizon T\n",
        "\n",
        "# Example density function ϕ(z) (e.g., normal distribution)\n",
        "def phi_function():\n",
        "    return np.random.normal(0, 1)  # Replace with the actual density function used in your problem\n",
        "\n",
        "# Simulate jumps for a specific number of trajectories\n",
        "levy_jumps = sample_levy_jumps(M, lambda_param, phi_function, time_horizon)\n",
        "\n",
        "# Example output of the first trajectory's jumps\n",
        "levy_jumps[0]  # (array of arrival times, array of jump sizes)\n"
      ],
      "metadata": {
        "id": "6JtPhxdcyUI3",
        "outputId": "42ba8247-c30a-48a2-eb17-6a2aea1e1d0e",
        "colab": {
          "base_uri": "https://localhost:8080/",
          "height": 218
        }
      },
      "execution_count": 38,
      "outputs": [
        {
          "output_type": "error",
          "ename": "NameError",
          "evalue": "ignored",
          "traceback": [
            "\u001b[0;31m---------------------------------------------------------------------------\u001b[0m",
            "\u001b[0;31mNameError\u001b[0m                                 Traceback (most recent call last)",
            "\u001b[0;32m<ipython-input-38-046156c27bec>\u001b[0m in \u001b[0;36m<cell line: 40>\u001b[0;34m()\u001b[0m\n\u001b[1;32m     38\u001b[0m \u001b[0;34m\u001b[0m\u001b[0m\n\u001b[1;32m     39\u001b[0m \u001b[0;31m# Example output of the first trajectory's jumps\u001b[0m\u001b[0;34m\u001b[0m\u001b[0;34m\u001b[0m\u001b[0m\n\u001b[0;32m---> 40\u001b[0;31m \u001b[0msize\u001b[0m\u001b[0;34m(\u001b[0m\u001b[0mlevy_jumps\u001b[0m\u001b[0;34m)\u001b[0m  \u001b[0;31m# (array of arrival times, array of jump sizes)\u001b[0m\u001b[0;34m\u001b[0m\u001b[0;34m\u001b[0m\u001b[0m\n\u001b[0m",
            "\u001b[0;31mNameError\u001b[0m: name 'size' is not defined"
          ]
        }
      ]
    },
    {
      "cell_type": "code",
      "source": [
        "def create_neural_network(input_dim, layer_width=25, output_dim=2):\n",
        "    # Define the input layer\n",
        "    inputs = tf.keras.Input(shape=(input_dim,))\n",
        "\n",
        "    # First linear layer\n",
        "    x = tf.keras.layers.Dense(layer_width, activation='tanh')(inputs)\n",
        "\n",
        "    # Add five residual blocks\n",
        "    for _ in range(5):\n",
        "        y = tf.keras.layers.Dense(layer_width, activation='tanh')(x)\n",
        "        y = tf.keras.layers.Dense(layer_width, activation='tanh')(y)\n",
        "        x = tf.keras.layers.Add()([x, y])\n",
        "\n",
        "    # Final linear layer\n",
        "    outputs = tf.keras.layers.Dense(output_dim)(x)\n",
        "\n",
        "    model = tf.keras.Model(inputs=inputs, outputs=outputs)\n",
        "    return model"
      ],
      "metadata": {
        "id": "dBKB-G3thPfZ"
      },
      "execution_count": null,
      "outputs": []
    },
    {
      "cell_type": "code",
      "source": [
        "d = 1\n",
        "input_dim = d + 1  # Set 'd' as problem's dimensionality\n",
        "model = create_neural_network(input_dim)"
      ],
      "metadata": {
        "id": "v5tbgOHFhpCP"
      },
      "execution_count": null,
      "outputs": []
    },
    {
      "cell_type": "code",
      "source": [
        "for iteration in range(Iterations):\n",
        ""
      ],
      "metadata": {
        "id": "fU6Q2QUrlRGM"
      },
      "execution_count": null,
      "outputs": []
    }
  ]
}